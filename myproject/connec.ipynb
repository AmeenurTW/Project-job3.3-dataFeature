{
 "cells": [
  {
   "cell_type": "code",
   "execution_count": 9,
   "id": "4d938a4c",
   "metadata": {},
   "outputs": [
    {
     "name": "stdout",
     "output_type": "stream",
     "text": [
      "Requirement already satisfied: pandas in c:\\users\\ameenur\\anaconda3\\lib\\site-packages (2.1.4)\n",
      "Requirement already satisfied: numpy<2,>=1.23.2 in c:\\users\\ameenur\\anaconda3\\lib\\site-packages (from pandas) (1.26.4)\n",
      "Requirement already satisfied: python-dateutil>=2.8.2 in c:\\users\\ameenur\\anaconda3\\lib\\site-packages (from pandas) (2.8.2)\n",
      "Requirement already satisfied: pytz>=2020.1 in c:\\users\\ameenur\\anaconda3\\lib\\site-packages (from pandas) (2023.3.post1)\n",
      "Requirement already satisfied: tzdata>=2022.1 in c:\\users\\ameenur\\anaconda3\\lib\\site-packages (from pandas) (2023.3)\n",
      "Requirement already satisfied: six>=1.5 in c:\\users\\ameenur\\anaconda3\\lib\\site-packages (from python-dateutil>=2.8.2->pandas) (1.16.0)\n",
      "Note: you may need to restart the kernel to use updated packages.\n",
      "Requirement already satisfied: numpy in c:\\users\\ameenur\\anaconda3\\lib\\site-packages (1.26.4)\n",
      "Note: you may need to restart the kernel to use updated packages.\n",
      "Requirement already satisfied: cassandra-driver in c:\\users\\ameenur\\anaconda3\\lib\\site-packages (3.29.2)\n",
      "Requirement already satisfied: geomet<0.3,>=0.1 in c:\\users\\ameenur\\anaconda3\\lib\\site-packages (from cassandra-driver) (0.2.1.post1)\n",
      "Requirement already satisfied: click in c:\\users\\ameenur\\anaconda3\\lib\\site-packages (from geomet<0.3,>=0.1->cassandra-driver) (8.1.7)\n",
      "Requirement already satisfied: six in c:\\users\\ameenur\\anaconda3\\lib\\site-packages (from geomet<0.3,>=0.1->cassandra-driver) (1.16.0)\n",
      "Requirement already satisfied: colorama in c:\\users\\ameenur\\anaconda3\\lib\\site-packages (from click->geomet<0.3,>=0.1->cassandra-driver) (0.4.6)\n",
      "Note: you may need to restart the kernel to use updated packages.\n",
      "Requirement already satisfied: plotly in c:\\users\\ameenur\\anaconda3\\lib\\site-packages (5.9.0)\n",
      "Requirement already satisfied: tenacity>=6.2.0 in c:\\users\\ameenur\\anaconda3\\lib\\site-packages (from plotly) (8.2.2)\n",
      "Note: you may need to restart the kernel to use updated packages.\n",
      "Note: you may need to restart the kernel to use updated packages.\n"
     ]
    },
    {
     "name": "stderr",
     "output_type": "stream",
     "text": [
      "ERROR: Could not find a version that satisfies the requirement mpllfinance (from versions: none)\n",
      "ERROR: No matching distribution found for mpllfinance\n"
     ]
    },
    {
     "name": "stdout",
     "output_type": "stream",
     "text": [
      "Requirement already satisfied: settrade_v2 in c:\\users\\ameenur\\anaconda3\\lib\\site-packages (2.2.0)\n",
      "Requirement already satisfied: requests>=2.27 in c:\\users\\ameenur\\anaconda3\\lib\\site-packages (from settrade_v2) (2.31.0)\n",
      "Requirement already satisfied: cryptography>=37.0 in c:\\users\\ameenur\\anaconda3\\lib\\site-packages (from settrade_v2) (42.0.2)\n",
      "Requirement already satisfied: betterproto>=1.2 in c:\\users\\ameenur\\anaconda3\\lib\\site-packages (from settrade_v2) (1.2.5)\n",
      "Requirement already satisfied: paho-mqtt<2,>=1.6 in c:\\users\\ameenur\\anaconda3\\lib\\site-packages (from settrade_v2) (1.6.1)\n",
      "Requirement already satisfied: ntplib>=0.4 in c:\\users\\ameenur\\anaconda3\\lib\\site-packages (from settrade_v2) (0.4.0)\n",
      "Requirement already satisfied: typing-extensions>=4.1 in c:\\users\\ameenur\\anaconda3\\lib\\site-packages (from settrade_v2) (4.9.0)\n",
      "Requirement already satisfied: grpclib in c:\\users\\ameenur\\anaconda3\\lib\\site-packages (from betterproto>=1.2->settrade_v2) (0.4.8)\n",
      "Requirement already satisfied: stringcase in c:\\users\\ameenur\\anaconda3\\lib\\site-packages (from betterproto>=1.2->settrade_v2) (1.2.0)\n",
      "Requirement already satisfied: cffi>=1.12 in c:\\users\\ameenur\\anaconda3\\lib\\site-packages (from cryptography>=37.0->settrade_v2) (1.16.0)\n",
      "Requirement already satisfied: charset-normalizer<4,>=2 in c:\\users\\ameenur\\anaconda3\\lib\\site-packages (from requests>=2.27->settrade_v2) (2.0.4)\n",
      "Requirement already satisfied: idna<4,>=2.5 in c:\\users\\ameenur\\anaconda3\\lib\\site-packages (from requests>=2.27->settrade_v2) (3.4)\n",
      "Requirement already satisfied: urllib3<3,>=1.21.1 in c:\\users\\ameenur\\anaconda3\\lib\\site-packages (from requests>=2.27->settrade_v2) (2.0.7)\n",
      "Requirement already satisfied: certifi>=2017.4.17 in c:\\users\\ameenur\\anaconda3\\lib\\site-packages (from requests>=2.27->settrade_v2) (2024.8.30)\n",
      "Requirement already satisfied: pycparser in c:\\users\\ameenur\\anaconda3\\lib\\site-packages (from cffi>=1.12->cryptography>=37.0->settrade_v2) (2.21)\n",
      "Requirement already satisfied: h2<5,>=3.1.0 in c:\\users\\ameenur\\anaconda3\\lib\\site-packages (from grpclib->betterproto>=1.2->settrade_v2) (4.2.0)\n",
      "Requirement already satisfied: multidict in c:\\users\\ameenur\\anaconda3\\lib\\site-packages (from grpclib->betterproto>=1.2->settrade_v2) (6.0.4)\n",
      "Requirement already satisfied: hyperframe<7,>=6.1 in c:\\users\\ameenur\\anaconda3\\lib\\site-packages (from h2<5,>=3.1.0->grpclib->betterproto>=1.2->settrade_v2) (6.1.0)\n",
      "Requirement already satisfied: hpack<5,>=4.1 in c:\\users\\ameenur\\anaconda3\\lib\\site-packages (from h2<5,>=3.1.0->grpclib->betterproto>=1.2->settrade_v2) (4.1.0)\n",
      "Note: you may need to restart the kernel to use updated packages.\n"
     ]
    }
   ],
   "source": [
    "# Install all dependencies\n",
    "%pip install pandas \n",
    "%pip install numpy \n",
    "%pip install cassandra-driver\n",
    "%pip install plotly \n",
    "%pip install mpllfinance \n",
    "%pip install settrade_v2\n",
    " \n",
    "\n"
   ]
  },
  {
   "cell_type": "code",
   "execution_count": 10,
   "id": "af5af8fd",
   "metadata": {},
   "outputs": [],
   "source": [
    "\n",
    "\n",
    "import pandas as pd\n",
    "import numpy as np\n",
    "import os\n",
    "from cassandra.cluster import Cluster\n",
    "from datetime import datetime\n",
    "import plotly.graph_objects as go\n",
    "import mplfinance as mpf\n",
    "import time\n",
    "import settrade_v2\n",
    "from settrade_v2 import Investor"
   ]
  },
  {
   "cell_type": "code",
   "execution_count": 11,
   "id": "f8d09f06",
   "metadata": {},
   "outputs": [
    {
     "name": "stdout",
     "output_type": "stream",
     "text": [
      "Requirement already satisfied: mplfinance in c:\\users\\ameenur\\anaconda3\\lib\\site-packages (0.12.10b0)\n",
      "Requirement already satisfied: matplotlib in c:\\users\\ameenur\\anaconda3\\lib\\site-packages (from mplfinance) (3.8.0)\n",
      "Requirement already satisfied: pandas in c:\\users\\ameenur\\anaconda3\\lib\\site-packages (from mplfinance) (2.1.4)\n",
      "Requirement already satisfied: contourpy>=1.0.1 in c:\\users\\ameenur\\anaconda3\\lib\\site-packages (from matplotlib->mplfinance) (1.2.0)\n",
      "Requirement already satisfied: cycler>=0.10 in c:\\users\\ameenur\\anaconda3\\lib\\site-packages (from matplotlib->mplfinance) (0.11.0)\n",
      "Requirement already satisfied: fonttools>=4.22.0 in c:\\users\\ameenur\\anaconda3\\lib\\site-packages (from matplotlib->mplfinance) (4.25.0)\n",
      "Requirement already satisfied: kiwisolver>=1.0.1 in c:\\users\\ameenur\\anaconda3\\lib\\site-packages (from matplotlib->mplfinance) (1.4.4)\n",
      "Requirement already satisfied: numpy<2,>=1.21 in c:\\users\\ameenur\\anaconda3\\lib\\site-packages (from matplotlib->mplfinance) (1.26.4)\n",
      "Requirement already satisfied: packaging>=20.0 in c:\\users\\ameenur\\anaconda3\\lib\\site-packages (from matplotlib->mplfinance) (23.1)\n",
      "Requirement already satisfied: pillow>=6.2.0 in c:\\users\\ameenur\\anaconda3\\lib\\site-packages (from matplotlib->mplfinance) (10.2.0)\n",
      "Requirement already satisfied: pyparsing>=2.3.1 in c:\\users\\ameenur\\anaconda3\\lib\\site-packages (from matplotlib->mplfinance) (3.0.9)\n",
      "Requirement already satisfied: python-dateutil>=2.7 in c:\\users\\ameenur\\anaconda3\\lib\\site-packages (from matplotlib->mplfinance) (2.8.2)\n",
      "Requirement already satisfied: pytz>=2020.1 in c:\\users\\ameenur\\anaconda3\\lib\\site-packages (from pandas->mplfinance) (2023.3.post1)\n",
      "Requirement already satisfied: tzdata>=2022.1 in c:\\users\\ameenur\\anaconda3\\lib\\site-packages (from pandas->mplfinance) (2023.3)\n",
      "Requirement already satisfied: six>=1.5 in c:\\users\\ameenur\\anaconda3\\lib\\site-packages (from python-dateutil>=2.7->matplotlib->mplfinance) (1.16.0)\n",
      "Note: you may need to restart the kernel to use updated packages.\n"
     ]
    }
   ],
   "source": [
    "%pip install mplfinance"
   ]
  },
  {
   "cell_type": "code",
   "execution_count": 12,
   "id": "6ad57918",
   "metadata": {},
   "outputs": [
    {
     "name": "stdout",
     "output_type": "stream",
     "text": [
      "Failed to connect to Cassandra: Cluster is already shut down\n",
      "Please ensure Cassandra is running on 127.0.0.1:9042\n"
     ]
    }
   ],
   "source": [
    "# Connect to Cassandra\n",
    "# Make sure Cassandra is running on your machine before executing this cell.\n",
    "try:\n",
    "\tsession = cluster.connect()\n",
    "\t# Optional: Connect to a specific keyspace\n",
    "\t# session.set_keyspace('your_keyspace')\n",
    "\tprint(\"Connected to Cassandra!\")\n",
    "except Exception as e:\n",
    "\tprint(f\"Failed to connect to Cassandra: {e}\")\n",
    "\tprint(\"Please ensure Cassandra is running on 127.0.0.1:9042\")"
   ]
  },
  {
   "cell_type": "code",
   "execution_count": null,
   "id": "32487a34",
   "metadata": {},
   "outputs": [],
   "source": []
  }
 ],
 "metadata": {
  "kernelspec": {
   "display_name": "base",
   "language": "python",
   "name": "python3"
  },
  "language_info": {
   "codemirror_mode": {
    "name": "ipython",
    "version": 3
   },
   "file_extension": ".py",
   "mimetype": "text/x-python",
   "name": "python",
   "nbconvert_exporter": "python",
   "pygments_lexer": "ipython3",
   "version": "3.11.7"
  }
 },
 "nbformat": 4,
 "nbformat_minor": 5
}
